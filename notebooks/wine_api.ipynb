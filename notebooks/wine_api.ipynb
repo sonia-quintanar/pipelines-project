{
 "cells": [
  {
   "cell_type": "code",
   "execution_count": 10,
   "metadata": {},
   "outputs": [
    {
     "data": {
      "text/html": [
       "<div>\n",
       "<style scoped>\n",
       "    .dataframe tbody tr th:only-of-type {\n",
       "        vertical-align: middle;\n",
       "    }\n",
       "\n",
       "    .dataframe tbody tr th {\n",
       "        vertical-align: top;\n",
       "    }\n",
       "\n",
       "    .dataframe thead th {\n",
       "        text-align: right;\n",
       "    }\n",
       "</style>\n",
       "<table border=\"1\" class=\"dataframe\">\n",
       "  <thead>\n",
       "    <tr style=\"text-align: right;\">\n",
       "      <th></th>\n",
       "      <th>Unnamed: 0</th>\n",
       "      <th>country</th>\n",
       "      <th>title</th>\n",
       "      <th>winery</th>\n",
       "    </tr>\n",
       "  </thead>\n",
       "  <tbody>\n",
       "    <tr>\n",
       "      <th>0</th>\n",
       "      <td>1718</td>\n",
       "      <td>Spain</td>\n",
       "      <td>Torres 2006 Viña Esmeralda Moscatel (Catalunya)</td>\n",
       "      <td>Torres</td>\n",
       "    </tr>\n",
       "    <tr>\n",
       "      <th>1</th>\n",
       "      <td>1721</td>\n",
       "      <td>Spain</td>\n",
       "      <td>Marqués de Cáceres 2006 Blanco Fermentado en B...</td>\n",
       "      <td>Marqués de Cáceres</td>\n",
       "    </tr>\n",
       "    <tr>\n",
       "      <th>2</th>\n",
       "      <td>1898</td>\n",
       "      <td>Spain</td>\n",
       "      <td>Torres 2003 Reserva Real Red (Penedès)</td>\n",
       "      <td>Torres</td>\n",
       "    </tr>\n",
       "    <tr>\n",
       "      <th>3</th>\n",
       "      <td>3154</td>\n",
       "      <td>Spain</td>\n",
       "      <td>Torres 2005 Celeste Crianza  (Ribera del Duero)</td>\n",
       "      <td>Torres</td>\n",
       "    </tr>\n",
       "    <tr>\n",
       "      <th>4</th>\n",
       "      <td>3210</td>\n",
       "      <td>Spain</td>\n",
       "      <td>Bodegas Valdemar 2005 Inspiración  (Rioja)</td>\n",
       "      <td>Bodegas Valdemar</td>\n",
       "    </tr>\n",
       "    <tr>\n",
       "      <th>...</th>\n",
       "      <td>...</td>\n",
       "      <td>...</td>\n",
       "      <td>...</td>\n",
       "      <td>...</td>\n",
       "    </tr>\n",
       "    <tr>\n",
       "      <th>251</th>\n",
       "      <td>126937</td>\n",
       "      <td>Spain</td>\n",
       "      <td>Vicente Gandia 2015 El Miracle 120 Chardonnay-...</td>\n",
       "      <td>Vicente Gandia</td>\n",
       "    </tr>\n",
       "    <tr>\n",
       "      <th>252</th>\n",
       "      <td>127409</td>\n",
       "      <td>Spain</td>\n",
       "      <td>Bodegas Valdemar 2008 Inspiración  (Rioja)</td>\n",
       "      <td>Bodegas Valdemar</td>\n",
       "    </tr>\n",
       "    <tr>\n",
       "      <th>253</th>\n",
       "      <td>127883</td>\n",
       "      <td>Spain</td>\n",
       "      <td>CVNE 2016 Monopole Viura (Rioja)</td>\n",
       "      <td>CVNE</td>\n",
       "    </tr>\n",
       "    <tr>\n",
       "      <th>254</th>\n",
       "      <td>129390</td>\n",
       "      <td>Spain</td>\n",
       "      <td>Bodegas Valdemar 2007 Esencia Valdemar Rosé Ga...</td>\n",
       "      <td>Bodegas Valdemar</td>\n",
       "    </tr>\n",
       "    <tr>\n",
       "      <th>255</th>\n",
       "      <td>129928</td>\n",
       "      <td>Spain</td>\n",
       "      <td>Torres 2005 Salmos Perpetual Red (Priorat)</td>\n",
       "      <td>Torres</td>\n",
       "    </tr>\n",
       "  </tbody>\n",
       "</table>\n",
       "<p>256 rows × 4 columns</p>\n",
       "</div>"
      ],
      "text/plain": [
       "     Unnamed: 0 country                                              title  \\\n",
       "0          1718   Spain    Torres 2006 Viña Esmeralda Moscatel (Catalunya)   \n",
       "1          1721   Spain  Marqués de Cáceres 2006 Blanco Fermentado en B...   \n",
       "2          1898   Spain             Torres 2003 Reserva Real Red (Penedès)   \n",
       "3          3154   Spain    Torres 2005 Celeste Crianza  (Ribera del Duero)   \n",
       "4          3210   Spain         Bodegas Valdemar 2005 Inspiración  (Rioja)   \n",
       "..          ...     ...                                                ...   \n",
       "251      126937   Spain  Vicente Gandia 2015 El Miracle 120 Chardonnay-...   \n",
       "252      127409   Spain         Bodegas Valdemar 2008 Inspiración  (Rioja)   \n",
       "253      127883   Spain                   CVNE 2016 Monopole Viura (Rioja)   \n",
       "254      129390   Spain  Bodegas Valdemar 2007 Esencia Valdemar Rosé Ga...   \n",
       "255      129928   Spain         Torres 2005 Salmos Perpetual Red (Priorat)   \n",
       "\n",
       "                 winery  \n",
       "0                Torres  \n",
       "1    Marqués de Cáceres  \n",
       "2                Torres  \n",
       "3                Torres  \n",
       "4      Bodegas Valdemar  \n",
       "..                  ...  \n",
       "251      Vicente Gandia  \n",
       "252    Bodegas Valdemar  \n",
       "253                CVNE  \n",
       "254    Bodegas Valdemar  \n",
       "255              Torres  \n",
       "\n",
       "[256 rows x 4 columns]"
      ]
     },
     "execution_count": 10,
     "metadata": {},
     "output_type": "execute_result"
    }
   ],
   "source": [
    "# Importamos el archivo limpio con los datos que queremos estudiar.\n",
    "df = pd.read_csv(\"../data/wine_cleaning.csv\")\n",
    "df"
   ]
  },
  {
   "cell_type": "code",
   "execution_count": 4,
   "metadata": {},
   "outputs": [
    {
     "data": {
      "text/plain": [
       "True"
      ]
     },
     "execution_count": 4,
     "metadata": {},
     "output_type": "execute_result"
    }
   ],
   "source": [
    "import pandas as pd\n",
    "import os\n",
    "from dotenv import load_dotenv\n",
    "import re\n",
    "import requests\n",
    "import json\n",
    "load_dotenv()"
   ]
  },
  {
   "cell_type": "code",
   "execution_count": 31,
   "metadata": {},
   "outputs": [],
   "source": [
    "token = os.getenv(\"token\")"
   ]
  },
  {
   "cell_type": "code",
   "execution_count": 32,
   "metadata": {},
   "outputs": [],
   "source": [
    "headers = {\"Authorization\": f\"token {token}\"}"
   ]
  },
  {
   "cell_type": "code",
   "execution_count": 33,
   "metadata": {},
   "outputs": [],
   "source": [
    "url = \"https://api.rakuten.co.jp/en/index.html\""
   ]
  },
  {
   "cell_type": "code",
   "execution_count": 34,
   "metadata": {},
   "outputs": [
    {
     "data": {
      "text/plain": [
       "<Response [200]>"
      ]
     },
     "execution_count": 34,
     "metadata": {},
     "output_type": "execute_result"
    }
   ],
   "source": [
    "response = requests.get(url, headers=headers)\n",
    "response"
   ]
  },
  {
   "cell_type": "code",
   "execution_count": null,
   "metadata": {},
   "outputs": [],
   "source": []
  }
 ],
 "metadata": {
  "kernelspec": {
   "display_name": "Python 3",
   "language": "python",
   "name": "python3"
  },
  "language_info": {
   "codemirror_mode": {
    "name": "ipython",
    "version": 3
   },
   "file_extension": ".py",
   "mimetype": "text/x-python",
   "name": "python",
   "nbconvert_exporter": "python",
   "pygments_lexer": "ipython3",
   "version": "3.8.5"
  }
 },
 "nbformat": 4,
 "nbformat_minor": 4
}
